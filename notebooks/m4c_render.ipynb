{
 "cells": [
  {
   "cell_type": "code",
   "execution_count": null,
   "id": "41dd9c99-06ee-4e88-9fff-ee91599dc728",
   "metadata": {},
   "outputs": [],
   "source": [
    "from datasets import load_dataset, Dataset\n",
    "from polyglot.detect import Detector\n",
    "from polyglot.detect.base import UnknownLanguage\n",
    "from tqdm import tqdm\n",
    "import langcodes\n",
    "\n",
    "def split(a, n):\n",
    "    k, m = divmod(len(a), n)\n",
    "    return (a[i * k + min(i, m):(i + 1) * k + min(i + 1, m)] for i in range(n))"
   ]
  },
  {
   "cell_type": "code",
   "execution_count": null,
   "id": "688883ee-69ab-4f6a-b37a-072c139d5d81",
   "metadata": {},
   "outputs": [],
   "source": [
    "def pop_mc4(ds, lang, size=1000000):\n",
    "    docs = {'text':[]}\n",
    "    for example in tqdm(ds['train'], total=size, desc='pop dataset'):\n",
    "        text = example['text'].replace('\\n', ' ')\n",
    "        docs['text'].append(text)\n",
    "        if len(docs['text']) == size:\n",
    "            break\n",
    "    return docs"
   ]
  },
  {
   "cell_type": "code",
   "execution_count": null,
   "id": "6f9703b9-b429-48d8-8e58-796163b0cab1",
   "metadata": {},
   "outputs": [],
   "source": [
    "#list_langs = ['german', 'greek', 'spanish', 'hindi', 'russian', 'thai', 'turkish', 'vietnamese', 'chinese', 'italian', 'french', 'portuguese', 'indonesian', 'japanese']\n",
    "list_langs = ['korean']\n",
    "path = \"/path/to/mc4\"\n",
    "max_size = 3010000\n",
    "\n",
    "for lang in list_langs:\n",
    "    tag = langcodes.find(lang).to_tag()\n",
    "    ds_iter = load_dataset(\"allenai/c4\", tag, streaming=True)\n",
    "    docs = pop_mc4(ds_iter, lang=lang, size=max_size)\n",
    "    ds = Dataset.from_dict(docs)\n",
    "    docs = None\n",
    "    del docs\n",
    "    ds = ds.train_test_split(test_size=5000)\n",
    "    ds.save_to_disk(f\"{path}/{lang}\")\n",
    "    print(f\"finish pop dataset for {lang}\")\n",
    "    ds = None\n",
    "    del ds"
   ]
  },
  {
   "cell_type": "code",
   "execution_count": null,
   "id": "ef701a6e-5740-4e4b-8d25-82c6d90ee176",
   "metadata": {},
   "outputs": [],
   "source": []
  },
  {
   "cell_type": "code",
   "execution_count": 1,
   "id": "412f7bcc-44d1-4bd9-8ed2-86b9eaec9218",
   "metadata": {},
   "outputs": [],
   "source": [
    "import torch\n",
    "import random\n",
    "import datasets\n",
    "from datasets import load_dataset, Dataset\n",
    "from datasets import concatenate_datasets\n",
    "from datasets import disable_caching\n",
    "disable_caching()\n",
    "\n",
    "#langs = ['arabic', 'bangla', 'chinese', 'english', 'finnish', 'french', 'german', 'hindi', 'indonesian', 'japanese', 'korean', 'persian', 'russian', 'spanish', 'telugu', 'thai']\n",
    "#abbvs = 'ar bn zh en fi fr de hi id ja ko fa ru es te th'.split()\n",
    "\n",
    "langs = ['telugu', 'thai']\n",
    "abbvs = 'te th'.split()"
   ]
  },
  {
   "cell_type": "code",
   "execution_count": 2,
   "id": "c498f259-6ef5-4a4a-9d43-08e22401b52b",
   "metadata": {},
   "outputs": [
    {
     "name": "stdout",
     "output_type": "stream",
     "text": [
      "telugu te\n"
     ]
    },
    {
     "data": {
      "application/vnd.jupyter.widget-view+json": {
       "model_id": "7ffa02386d2f4f349eb635a84273b9ac",
       "version_major": 2,
       "version_minor": 0
      },
      "text/plain": [
       "Loading dataset from disk:   0%|          | 0/18 [00:00<?, ?it/s]"
      ]
     },
     "metadata": {},
     "output_type": "display_data"
    },
    {
     "data": {
      "application/vnd.jupyter.widget-view+json": {
       "model_id": "1dd5c4ef0e0c4db1b0c6ef065376024c",
       "version_major": 2,
       "version_minor": 0
      },
      "text/plain": [
       "Saving the dataset (0/19 shards):   0%|          | 0/1696322 [00:00<?, ? examples/s]"
      ]
     },
     "metadata": {},
     "output_type": "display_data"
    },
    {
     "data": {
      "application/vnd.jupyter.widget-view+json": {
       "model_id": "f6a93bcf3a9c44c2a54b62f9bcccb7fc",
       "version_major": 2,
       "version_minor": 0
      },
      "text/plain": [
       "Saving the dataset (0/1 shards):   0%|          | 0/5000 [00:00<?, ? examples/s]"
      ]
     },
     "metadata": {},
     "output_type": "display_data"
    },
    {
     "name": "stdout",
     "output_type": "stream",
     "text": [
      "finish pop dataset for telugu\n",
      "thai th\n"
     ]
    },
    {
     "data": {
      "application/vnd.jupyter.widget-view+json": {
       "model_id": "fff17ef023bf40ec907d7debc6442313",
       "version_major": 2,
       "version_minor": 0
      },
      "text/plain": [
       "Generating train split: 0 examples [00:00, ? examples/s]"
      ]
     },
     "metadata": {},
     "output_type": "display_data"
    },
    {
     "data": {
      "application/vnd.jupyter.widget-view+json": {
       "model_id": "4ebae38964d547859ba7e3390459cd21",
       "version_major": 2,
       "version_minor": 0
      },
      "text/plain": [
       "Loading dataset from disk:   0%|          | 0/35 [00:00<?, ?it/s]"
      ]
     },
     "metadata": {},
     "output_type": "display_data"
    },
    {
     "data": {
      "application/vnd.jupyter.widget-view+json": {
       "model_id": "be16ecc7460c44a3a5925ba8c0bf8102",
       "version_major": 2,
       "version_minor": 0
      },
      "text/plain": [
       "Saving the dataset (0/31 shards):   0%|          | 0/3000000 [00:00<?, ? examples/s]"
      ]
     },
     "metadata": {},
     "output_type": "display_data"
    },
    {
     "data": {
      "application/vnd.jupyter.widget-view+json": {
       "model_id": "56fad21b015646f5a49ed37773c912c6",
       "version_major": 2,
       "version_minor": 0
      },
      "text/plain": [
       "Saving the dataset (0/1 shards):   0%|          | 0/5000 [00:00<?, ? examples/s]"
      ]
     },
     "metadata": {},
     "output_type": "display_data"
    },
    {
     "name": "stdout",
     "output_type": "stream",
     "text": [
      "finish pop dataset for thai\n"
     ]
    }
   ],
   "source": [
    "for lang, abbv in zip(langs, abbvs):\n",
    "    print(lang, abbv)\n",
    "    path = f\"/path/to/miracl/{abbv}/collection.tsv\"\n",
    "    mir_ds = load_dataset(\"csv\", delimiter=\"\\t\", header=None, names=['pid', 'text'], usecols=[0, 1], data_files=path)\n",
    "    mir_ds = mir_ds['train']\n",
    "    mir_ds = mir_ds.remove_columns(\"pid\")\n",
    "    mir_len = len(mir_ds)\n",
    "    if mir_len >= 3005000:\n",
    "        mir_ds = mir_ds.shuffle(seed=42)\n",
    "        ds = mir_ds.select(range(3005000))\n",
    "    else:\n",
    "        res = 3005000 - mir_len\n",
    "        mc4_ds = datasets.load_from_disk(f\"/path/to/mc4/{lang}/train\")\n",
    "        mc4_len = len(mc4_ds)\n",
    "        indexes = random.sample(range(mc4_len), min(res, mc4_len))\n",
    "        mc4_ds = mc4_ds.select(indexes)\n",
    "        ds = concatenate_datasets([mir_ds, mc4_ds])\n",
    "\n",
    "    ds = ds.train_test_split(test_size=5000)\n",
    "    ds.save_to_disk(f\"/path/to/mix4/{lang}\")\n",
    "    print(f\"finish pop dataset for {lang}\")\n",
    "    ds = None\n",
    "    mir_ds = None\n",
    "    mc4_ds = None"
   ]
  },
  {
   "cell_type": "code",
   "execution_count": null,
   "id": "03d7c505-7fd9-4f89-8e6f-9c96caa5f20c",
   "metadata": {},
   "outputs": [],
   "source": [
    "mc4_len"
   ]
  },
  {
   "cell_type": "code",
   "execution_count": null,
   "id": "2e4ed4dd-f718-4413-8831-3a7f3048a3c2",
   "metadata": {},
   "outputs": [],
   "source": []
  }
 ],
 "metadata": {
  "kernelspec": {
   "display_name": "Python 3 (ipykernel)",
   "language": "python",
   "name": "python3"
  },
  "language_info": {
   "codemirror_mode": {
    "name": "ipython",
    "version": 3
   },
   "file_extension": ".py",
   "mimetype": "text/x-python",
   "name": "python",
   "nbconvert_exporter": "python",
   "pygments_lexer": "ipython3",
   "version": "3.10.8"
  }
 },
 "nbformat": 4,
 "nbformat_minor": 5
}
